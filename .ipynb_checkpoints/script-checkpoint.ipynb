{
 "cells": [
  {
   "cell_type": "markdown",
   "metadata": {},
   "source": [
    "# 3D Point Clouds Earthquake Model"
   ]
  },
  {
   "cell_type": "markdown",
   "metadata": {},
   "source": [
    "Thousands or even millions of georeferenced points are combined together making a 3D visualization, which not only describe the land mask all over the world, but also available for earthquake information. Since earthquake information is requested through an API towards the GeoJSON data, we can even request the most recent update. Besides, the query parameters also allow us to choose the specific time period and the magnitude range that will be displayed on the mode. Let's see how it comes true using Python!"
   ]
  },
  {
   "cell_type": "markdown",
   "metadata": {},
   "source": [
    "## Modules\n",
    "First of first, let's import all python modules that will be covered in the following codes. All modules are listed below:   \n",
    "  - os\n",
    "  - numpy\n",
    "  - json\n",
    "  - urllib.request\n",
    "  - math   \n",
    "  - matplotlib\n",
    "  - netCDF4\n",
    "  - open3d\n",
    "\n",
    "The last two modules are imported in different code cells to check whether the modules are installed already. If any module is not found in the library, please uncomment the `pip install xxx` part to install the package first, then try to import the module again."
   ]
  },
  {
   "cell_type": "code",
   "execution_count": 1,
   "metadata": {},
   "outputs": [],
   "source": [
    "import os\n",
    "import numpy as np\n",
    "import json\n",
    "import urllib.request\n",
    "from math import cos, sin, pi\n",
    "from matplotlib import cm"
   ]
  },
  {
   "cell_type": "markdown",
   "metadata": {},
   "source": [
    "\n",
    "`netCDF4` is short for `Network Common Data Format Version 4`, which is used for reading `lsmask.nc` file and get the land mask only for this project. More details can be found here:https://unidata.github.io/netcdf4-python/netCDF4/index.html"
   ]
  },
  {
   "cell_type": "code",
   "execution_count": null,
   "metadata": {},
   "outputs": [],
   "source": [
    "#pip install netCDF4"
   ]
  },
  {
   "cell_type": "code",
   "execution_count": 2,
   "metadata": {},
   "outputs": [],
   "source": [
    "import netCDF4"
   ]
  },
  {
   "cell_type": "markdown",
   "metadata": {},
   "source": [
    "`open3d` is an open-source library that supports rapid development of software that deals with 3D data. In this project, the final output format of 3D point clouds model is `.ply` file, which can be displayed by this module successfully. More details can be found here: http://www.open3d.org/docs/release/index.html"
   ]
  },
  {
   "cell_type": "code",
   "execution_count": null,
   "metadata": {},
   "outputs": [],
   "source": [
    "# pip install open3d"
   ]
  },
  {
   "cell_type": "code",
   "execution_count": 3,
   "metadata": {},
   "outputs": [],
   "source": [
    "import open3d as o3d"
   ]
  },
  {
   "cell_type": "markdown",
   "metadata": {},
   "source": [
    "## Data\n",
    "\n",
    "- #### Land mask\n",
    "The land mask data is downloaded from Physical Sciences Laboratory website (https://psl.noaa.gov/data/gridded/data.noaa.oisst.v2.html). The latitude/longitude values in the netCDF `coordinate` variables are the centers of the one-degree grid cells. Besides, the `mask` variable in the netCDF has two values, `0 and 1`. The value `0` refers to the land mask, whereas the value `1` refers to the ocean mask. Thus, the mask that equals to 0 can perfectly descfrible the point clouds of land all over the world.\n",
    "\n",
    "\n",
    "- #### Earthquake API\n",
    "Since earthquakes happen frequently almost everyday in the world, the data I selected is a real-time updated data from an API offered by USGS(https://earthquake.usgs.gov/fdsnws/event/1/). More specificly, you can name the `time period` as well as the `magnitude range` by adding query paramerers. Besides, `GeoJSON` is one of the format you can read from that API.\n",
    "\n",
    "- #### Earthquake JSON\n",
    "When we access the GeoJSON data from the API remotely, we can extract the information like `lon/lat`, `depth` as well as `magnitude level` and save them all in a new json file locally. \n",
    "\n",
    "- #### PLY Model\n",
    "PLY model is the local file for the final output. It can be opened in applications like `Meshlab` or can be read through the `open3d` python module in the jupyter notebook.\n"
   ]
  },
  {
   "cell_type": "code",
   "execution_count": 4,
   "metadata": {},
   "outputs": [],
   "source": [
    "# create varaibles for data path separately\n",
    "\n",
    "# Endpoint of earthquake API\n",
    "EQ_API = 'https://earthquake.usgs.gov/fdsnws/event/1/'\n",
    "\n",
    "# Local Path of the Land mask point clouds\n",
    "LAND_PC = 'lsmask.nc'\n",
    "\n",
    "# New created file path for Earthquake data extracted from api\n",
    "EQ_JSON = 'earthquakes.json'\n",
    "\n",
    "# New created file path for 3D model\n",
    "PLY_MODEL = 'earthquakes.ply'"
   ]
  },
  {
   "cell_type": "markdown",
   "metadata": {},
   "source": [
    "### Earthquake parameters\n",
    "Run the following two code cells, and input the start time, end time as well as the lowest magnitude and the highest magnitude. "
   ]
  },
  {
   "cell_type": "code",
   "execution_count": 12,
   "metadata": {},
   "outputs": [
    {
     "name": "stdout",
     "output_type": "stream",
     "text": [
      "Please enter the start time (Format like: YYYY-MM-DD):2022-05-01\n",
      "Please enter the start time (Format like: YYYY-MM-DD):2022-10-01\n"
     ]
    }
   ],
   "source": [
    "# input the requested start and end time, and save the input strings in variables separately\n",
    "# the input format should follow the example below, expecially the connecting dash (-)\n",
    "\n",
    "start_t = input('Please enter the start time (Format like: YYYY-MM-DD):')   \n",
    "end_t = input('Please enter the start time (Format like: YYYY-MM-DD):') "
   ]
  },
  {
   "cell_type": "code",
   "execution_count": 6,
   "metadata": {},
   "outputs": [
    {
     "name": "stdout",
     "output_type": "stream",
     "text": [
      "Please enter the lowest magnitude level:2\n",
      "Please enter the largest magnitude level:8\n"
     ]
    }
   ],
   "source": [
    "# input the requested lowest and highest magnitude level, and save the input strings in variables separately\n",
    "\n",
    "min_mag = input('Please enter the lowest magnitude level:')\n",
    "max_mag = input('Please enter the largest magnitude level:')"
   ]
  },
  {
   "cell_type": "markdown",
   "metadata": {},
   "source": [
    "Once we got the input parameters above, request earthquake data from the api using the `eq_request()` function. Parameters in the function should be in order.\n",
    "\n",
    "- Use the `urllib.request.urlopen` method to open the request url. If the requested url is accessible, the condition will update: `##### Connecting API #####`. \n",
    "\n",
    "- Then use the `read()` method to read the data in that url and save all in the variable. If the requested data are fully saved in a temporary variable, the condition will update: `##### Reading GeoJSON #####`.\n",
    "\n",
    "- Create a new list to extract the information we want only, and then save the list in a new json file locally. If the data is extracted and saved successfully in the local json file, the condition will update: `##### EQ Updated #####`.\n",
    "\n"
   ]
  },
  {
   "cell_type": "code",
   "execution_count": 7,
   "metadata": {},
   "outputs": [],
   "source": [
    "def eq_request(start_t, end_t, min_mag, max_mag):\n",
    "\n",
    "    # combine the query strings into one and save in the variable\n",
    "    parameters = 'query?format=geojson' + '&starttime=' + start_t + '&endtime=' + end_t + '&minmagnitude=' + min_mag + '&maxmagnitude=' + max_mag\n",
    "    \n",
    "    # conncet the endpoint and the query parameters to get the full request url\n",
    "    req = EQ_API + parameters\n",
    "    \n",
    "    # open the request url\n",
    "    res = urllib.request.urlopen(req)\n",
    "    print('##### Connecting API #####')\n",
    "    \n",
    "    # read the GeoJSON data from the url\n",
    "    eq_dict = json.loads(res.read())\n",
    "    print('##### Reading GeoJSON #####')\n",
    "\n",
    "    # create a list for some specfic information\n",
    "    earthquakes = []\n",
    "    \n",
    "    # the value of 'features'key is the list of properties of each earthquake\n",
    "    features = eq_dict['features']\n",
    "    \n",
    "    # use a for loop to go through the value list and extract the magnitude as well as the coordinates\n",
    "    for feature in features:\n",
    "        mag = feature['properties']['mag']\n",
    "        lon = feature['geometry']['coordinates'][0]\n",
    "        lat = feature['geometry']['coordinates'][1]\n",
    "        depth = feature['geometry']['coordinates'][2]\n",
    "        \n",
    "        # save the properties of the earthquake in a dictionary and append it to the empty list created above\n",
    "        obj = {\n",
    "                'mag': mag,\n",
    "                'lon': lon,\n",
    "                'lat': lat,\n",
    "                'depth': depth\n",
    "                }\n",
    "\n",
    "        earthquakes.append(obj)\n",
    "\n",
    "    # since all eathquake records are now in the list, wrtie the list in a new json file locally\n",
    "    update = json.dumps(earthquakes, indent=4)\n",
    "    with open(EQ_JSON, 'w') as f:\n",
    "        f.write(update)\n",
    "        f.close()\n",
    "    print('##### EQ Updated #####')"
   ]
  },
  {
   "cell_type": "code",
   "execution_count": 15,
   "metadata": {},
   "outputs": [
    {
     "name": "stdout",
     "output_type": "stream",
     "text": [
      "##### Connecting API #####\n",
      "##### Reading GeoJSON #####\n",
      "##### EQ Updated #####\n"
     ]
    }
   ],
   "source": [
    "# run the function to connect the api, extract data and save locally\n",
    "eq_request(start_t, end_t, min_mag, max_mag)"
   ]
  },
  {
   "cell_type": "markdown",
   "metadata": {},
   "source": [
    "Open the json file and read the data."
   ]
  },
  {
   "cell_type": "code",
   "execution_count": 16,
   "metadata": {},
   "outputs": [],
   "source": [
    "# create an empty list for earthquakes data\n",
    "earthquakes = []\n",
    "\n",
    "# open the .json file locally, then read and save the data in the list\n",
    "with open(EQ_JSON, 'r') as fr:\n",
    "    earthquakes = json.load(fr)\n",
    "    fr.close()"
   ]
  },
  {
   "cell_type": "markdown",
   "metadata": {},
   "source": [
    "   Use the `netCDF4.Dataset` method to read the `lsmask.nc` file. Extract the points with land mask only.\n",
    "   \n",
    "   `np.meshgrid(lat, lon)` allows to return the minimum rectangle made by points. And `np.ravel(lat, lon)` shrinks the array to one dimension only but will not reduce any element, especially identical ones.\n",
    "   "
   ]
  },
  {
   "cell_type": "code",
   "execution_count": 17,
   "metadata": {},
   "outputs": [],
   "source": [
    "def land_mask():\n",
    "    # read the .nc file\n",
    "    data = netCDF4.Dataset('lsmask.nc')\n",
    "    \n",
    "    # return the minimum rectangle made by points\n",
    "    LATS, LONS = np.meshgrid(data.variables['lon'], data.variables['lat'])\n",
    "    # display the elements all in one list\n",
    "    LATS, LONS = LATS.ravel(), LONS.ravel()\n",
    "    MASKS = data.variables['mask'][0].ravel()\n",
    "    # extract the ones whose masks equal to 0\n",
    "    lats, lons = LATS[MASKS==0], LONS[MASKS==0]\n",
    "\n",
    "    data.close()\n",
    "    return lons, lats"
   ]
  },
  {
   "cell_type": "code",
   "execution_count": 18,
   "metadata": {},
   "outputs": [
    {
     "name": "stderr",
     "output_type": "stream",
     "text": [
      "/Users/zing/opt/anaconda3/lib/python3.7/site-packages/ipykernel_launcher.py:9: DeprecationWarning: `np.bool` is a deprecated alias for the builtin `bool`. To silence this warning, use `bool` by itself. Doing this will not modify any behavior and is safe. If you specifically wanted the numpy scalar type, use `np.bool_` here.\n",
      "Deprecated in NumPy 1.20; for more details and guidance: https://numpy.org/devdocs/release/1.20.0-notes.html#deprecations\n",
      "  if __name__ == '__main__':\n"
     ]
    }
   ],
   "source": [
    "# get the longtitude/latitude values of grid points from the land mask\n",
    "lons, lats = land_mask()"
   ]
  },
  {
   "cell_type": "markdown",
   "metadata": {},
   "source": [
    "Convert the longtitudes and latitudes as well as the depth to x, y, z of `Cartesian coordinates` in 3d model. Set the center of the earth at `0, 0, 0` and Radius in `6400` for the sphere model. "
   ]
  },
  {
   "cell_type": "code",
   "execution_count": 19,
   "metadata": {},
   "outputs": [],
   "source": [
    "def coords_conversion(lon, lat, depth):\n",
    "    # center\n",
    "    O = [0, 0, 0]\n",
    "    # Radius\n",
    "    R = 6400\n",
    "    # Scale\n",
    "    S = 0.01\n",
    "    # Depth exageration\n",
    "    D = 3\n",
    "    \n",
    "    # calculate the radian of the sphere\n",
    "    rad_lat, rad_lon = lat * pi / 180, lon * pi / 180\n",
    "    \n",
    "    # calculate the cartesian coordiantes of each point\n",
    "    x = O[0] + S * (R-D*depth) * cos(rad_lat) * cos(rad_lon)\n",
    "    y = O[1] + S * (R-D*depth) * cos(rad_lat) * sin(rad_lon)\n",
    "    z = O[2] + S * (R-D*depth) * sin(rad_lat)\n",
    "\n",
    "    return (x, y, z)"
   ]
  },
  {
   "cell_type": "code",
   "execution_count": 20,
   "metadata": {},
   "outputs": [],
   "source": [
    "# create two empty lists for point clouds in model\n",
    "coords = []\n",
    "colors = []"
   ]
  },
  {
   "cell_type": "markdown",
   "metadata": {},
   "source": [
    "As for the land point clouds, lon/lat has already got from the `land_mask()`function, and the depth should be 0. Before adding the coords elements in the list, we need to convert the coordinates first. As for colors, the color of land should not be less obvious than earthquakes so that I choose gray(R:192, G:192, B:192) for them.\n",
    "\n",
    "use `extend()` to add them all to the list at once."
   ]
  },
  {
   "cell_type": "code",
   "execution_count": 21,
   "metadata": {},
   "outputs": [],
   "source": [
    "# convert the lon/lat/depth to x/y/z \n",
    "# use a for loop to add all land points coordinates in the list\n",
    "# use another for loop to set all land point clouds in color gray\n",
    "coords.extend([ coords_conversion(lat, lon, 0) for lon, lat in zip(lons, lats) ]) \n",
    "colors.extend([ (192,192,192) for x in lats ])"
   ]
  },
  {
   "cell_type": "markdown",
   "metadata": {},
   "source": [
    "As for the earthquakes, lon/lat/depth has already saved in the local json file. Use a for loop to extract them all and then convert the coordinates. As for colors, use the `point_color()`function to get the rbg of each point. If points are colored successfully, the condition will update: `##### EQ colored #####`\n",
    "\n",
    "In this funciton, the colormap I used here is a sequential one called `autumn`. Each magnitude level can get a different RGB value according to its ranking among the input magnitude range. The higer magnitude level, the higher saturability level. You can also change the colormap as you like, more details: https://matplotlib.org/users/colormaps.html\n",
    "\n"
   ]
  },
  {
   "cell_type": "code",
   "execution_count": 22,
   "metadata": {},
   "outputs": [],
   "source": [
    "def point_color(x, min_mag, max_mag, cmap = cm.autumn):                                      # ?\n",
    "    \n",
    "    # convert the input parameters from string to float\n",
    "    min_mag = float(min_mag)\n",
    "    max_mag = float(max_mag)\n",
    "    \n",
    "    # calculate the rank of the magnitude\n",
    "    ratio = (x-min_mag) / (max_mag-min_mag)\n",
    "    # calculate the value of color according to the ratio\n",
    "    rgb = cmap(int(ratio*255))\n",
    "    r = int(rgb[0]*255)\n",
    "    g = int(rgb[1]*255)\n",
    "    b = int(rgb[2]*255)\n",
    "\n",
    "    return (r, g, b)\n",
    "    print('##### EQ colored #####')"
   ]
  },
  {
   "cell_type": "code",
   "execution_count": 23,
   "metadata": {},
   "outputs": [],
   "source": [
    "# convert the lon/lat to x/y and earthquake depth to z value\n",
    "# use a for loop to add all earthquakes points coordinates in the list\n",
    "# use another for loop to set color value according to the magnitude of each earthaquake\n",
    "\n",
    "coords.extend([ coords_conversion(x['lon'], x['lat'], x['depth']) for x in earthquakes ])\n",
    "colors.extend([ point_color(x['mag'], min_mag, max_mag) for x in earthquakes ])\n"
   ]
  },
  {
   "cell_type": "markdown",
   "metadata": {},
   "source": [
    "The coords list and the colors list have already extended the points from both land mask and earthquakes. The last step here is to write the PLY model. PLY model has its own formats for headers. More information about PLY: http://paulbourke.net/dataformats/ply/"
   ]
  },
  {
   "cell_type": "code",
   "execution_count": 24,
   "metadata": {},
   "outputs": [],
   "source": [
    "def model(path):\n",
    "    with open(path, 'w') as fw:\n",
    "    # write headers in required format \n",
    "        fw.write('ply\\nformat ascii 1.0\\n')\n",
    "        fw.write('element vertex %d\\n' % len(coords))\n",
    "        fw.write('property float x\\n')\n",
    "        fw.write('property float y\\n')\n",
    "        fw.write('property float z\\n')\n",
    "\n",
    "        if len(colors) == len(coords):\n",
    "            fw.write('property uchar red\\n')\n",
    "            fw.write('property uchar green\\n')\n",
    "            fw.write('property uchar blue\\n')\n",
    "\n",
    "        fw.write('end_header\\n')\n",
    "        \n",
    "        # write data\n",
    "        # use for loop to write the elements from coords/lists to the ply file\n",
    "        # type of coords should be float, and type of colors should be integer\n",
    "        if len(colors) == len(coords):\n",
    "            for coord, color in zip(coords, colors):\n",
    "                fw.write(\"%f %f %f %d %d %d\\n\" % (\n",
    "                    coord[0],\n",
    "                    coord[1],\n",
    "                    coord[2],\n",
    "                    color[0],\n",
    "                    color[1],\n",
    "                    color[2]\n",
    "                    ))\n",
    "        else:\n",
    "            for coord in coords:\n",
    "                fw.write(\"%f %f %f\\n\" % (\n",
    "                    coord[0],\n",
    "                    coord[1],\n",
    "                    coord[2]\n",
    "                    ))\n",
    "        print('##### PLY model created #####')"
   ]
  },
  {
   "cell_type": "code",
   "execution_count": 25,
   "metadata": {},
   "outputs": [
    {
     "name": "stdout",
     "output_type": "stream",
     "text": [
      "##### PLY model created #####\n"
     ]
    }
   ],
   "source": [
    "# use the 'model()' function to create a 3d model\n",
    "model(PLY_MODEL)\n",
    "\n",
    "# if the model created successfully, the condition will update: ##### PLY model created #####"
   ]
  },
  {
   "cell_type": "markdown",
   "metadata": {},
   "source": [
    "## Display the 3D Point Clouds Model\n",
    "\n",
    "You can use `open3d` module to display the model in the jupyter notebook, or open the ply file in the `Meshlab` application."
   ]
  },
  {
   "cell_type": "code",
   "execution_count": 26,
   "metadata": {},
   "outputs": [
    {
     "name": "stdout",
     "output_type": "stream",
     "text": [
      "geometry::PointCloud with 37508 points.\n"
     ]
    }
   ],
   "source": [
    "# use open3d package to read all point clouds in the ply model and save in the variable called 'PC'\n",
    "\n",
    "PC = o3d.io.read_point_cloud(PLY_MODEL)\n",
    "\n",
    "# print the PC to check the amount of points\n",
    "print(PC)"
   ]
  },
  {
   "cell_type": "markdown",
   "metadata": {},
   "source": [
    "Run the followoing code and display the model through a `pop-up window`. You can `rotate` or `zoom in/out` the model by mouse controling."
   ]
  },
  {
   "cell_type": "code",
   "execution_count": 27,
   "metadata": {},
   "outputs": [],
   "source": [
    "o3d.visualization.draw_geometries([PC])"
   ]
  },
  {
   "cell_type": "code",
   "execution_count": null,
   "metadata": {},
   "outputs": [],
   "source": []
  }
 ],
 "metadata": {
  "kernelspec": {
   "display_name": "Python 3",
   "language": "python",
   "name": "python3"
  },
  "language_info": {
   "codemirror_mode": {
    "name": "ipython",
    "version": 3
   },
   "file_extension": ".py",
   "mimetype": "text/x-python",
   "name": "python",
   "nbconvert_exporter": "python",
   "pygments_lexer": "ipython3",
   "version": "3.7.4"
  }
 },
 "nbformat": 4,
 "nbformat_minor": 2
}
